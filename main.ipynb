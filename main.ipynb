{
 "cells": [
  {
   "cell_type": "code",
   "execution_count": 27,
   "id": "e1b35916",
   "metadata": {},
   "outputs": [],
   "source": [
    "import pandas as pd\n",
    "import numpy as np\n",
    "import matplotlib.pyplot as plt"
   ]
  },
  {
   "cell_type": "code",
   "execution_count": 28,
   "id": "a9fc1d07",
   "metadata": {},
   "outputs": [],
   "source": [
    "df = pd.read_csv(\"data/athlete_events.csv\")"
   ]
  },
  {
   "cell_type": "markdown",
   "id": "874885de",
   "metadata": {},
   "source": [
    "# Checking for missing values"
   ]
  },
  {
   "cell_type": "code",
   "execution_count": 29,
   "id": "adea78a8",
   "metadata": {},
   "outputs": [
    {
     "data": {
      "text/plain": [
       "ID             0\n",
       "Name           0\n",
       "Sex            0\n",
       "Age         9474\n",
       "Height     60171\n",
       "Weight     62875\n",
       "Team           0\n",
       "NOC            0\n",
       "Games          0\n",
       "Year           0\n",
       "Season         0\n",
       "City           0\n",
       "Sport          0\n",
       "Event          0\n",
       "Medal     231333\n",
       "dtype: int64"
      ]
     },
     "execution_count": 29,
     "metadata": {},
     "output_type": "execute_result"
    }
   ],
   "source": [
    "df.isnull().sum()"
   ]
  },
  {
   "cell_type": "code",
   "execution_count": 30,
   "id": "721022d6",
   "metadata": {},
   "outputs": [],
   "source": [
    "avg_age = df['Age'].mean()\n",
    "df['Age'] = df['Age'].fillna(avg_age)\n",
    "avg_height =df['Height'].mean()\n",
    "df['Height']=df['Height'].fillna(avg_height)\n",
    "avg_weight = df['Weight'].mean()\n",
    "df['Weight'] = df['Weight'].fillna(avg_weight)"
   ]
  },
  {
   "cell_type": "code",
   "execution_count": 31,
   "id": "e030c142",
   "metadata": {},
   "outputs": [
    {
     "data": {
      "text/html": [
       "<div>\n",
       "<style scoped>\n",
       "    .dataframe tbody tr th:only-of-type {\n",
       "        vertical-align: middle;\n",
       "    }\n",
       "\n",
       "    .dataframe tbody tr th {\n",
       "        vertical-align: top;\n",
       "    }\n",
       "\n",
       "    .dataframe thead th {\n",
       "        text-align: right;\n",
       "    }\n",
       "</style>\n",
       "<table border=\"1\" class=\"dataframe\">\n",
       "  <thead>\n",
       "    <tr style=\"text-align: right;\">\n",
       "      <th></th>\n",
       "      <th>ID</th>\n",
       "      <th>Age</th>\n",
       "      <th>Height</th>\n",
       "      <th>Weight</th>\n",
       "      <th>Year</th>\n",
       "    </tr>\n",
       "  </thead>\n",
       "  <tbody>\n",
       "    <tr>\n",
       "      <th>count</th>\n",
       "      <td>271116.000000</td>\n",
       "      <td>271116.000000</td>\n",
       "      <td>271116.00000</td>\n",
       "      <td>271116.000000</td>\n",
       "      <td>271116.000000</td>\n",
       "    </tr>\n",
       "    <tr>\n",
       "      <th>mean</th>\n",
       "      <td>68248.954396</td>\n",
       "      <td>25.556898</td>\n",
       "      <td>175.33897</td>\n",
       "      <td>70.702393</td>\n",
       "      <td>1978.378480</td>\n",
       "    </tr>\n",
       "    <tr>\n",
       "      <th>std</th>\n",
       "      <td>39022.286345</td>\n",
       "      <td>6.280857</td>\n",
       "      <td>9.27810</td>\n",
       "      <td>12.574690</td>\n",
       "      <td>29.877632</td>\n",
       "    </tr>\n",
       "    <tr>\n",
       "      <th>min</th>\n",
       "      <td>1.000000</td>\n",
       "      <td>10.000000</td>\n",
       "      <td>127.00000</td>\n",
       "      <td>25.000000</td>\n",
       "      <td>1896.000000</td>\n",
       "    </tr>\n",
       "    <tr>\n",
       "      <th>25%</th>\n",
       "      <td>34643.000000</td>\n",
       "      <td>22.000000</td>\n",
       "      <td>170.00000</td>\n",
       "      <td>63.000000</td>\n",
       "      <td>1960.000000</td>\n",
       "    </tr>\n",
       "    <tr>\n",
       "      <th>50%</th>\n",
       "      <td>68205.000000</td>\n",
       "      <td>25.000000</td>\n",
       "      <td>175.33897</td>\n",
       "      <td>70.702393</td>\n",
       "      <td>1988.000000</td>\n",
       "    </tr>\n",
       "    <tr>\n",
       "      <th>75%</th>\n",
       "      <td>102097.250000</td>\n",
       "      <td>28.000000</td>\n",
       "      <td>180.00000</td>\n",
       "      <td>75.000000</td>\n",
       "      <td>2002.000000</td>\n",
       "    </tr>\n",
       "    <tr>\n",
       "      <th>max</th>\n",
       "      <td>135571.000000</td>\n",
       "      <td>97.000000</td>\n",
       "      <td>226.00000</td>\n",
       "      <td>214.000000</td>\n",
       "      <td>2016.000000</td>\n",
       "    </tr>\n",
       "  </tbody>\n",
       "</table>\n",
       "</div>"
      ],
      "text/plain": [
       "                  ID            Age        Height         Weight  \\\n",
       "count  271116.000000  271116.000000  271116.00000  271116.000000   \n",
       "mean    68248.954396      25.556898     175.33897      70.702393   \n",
       "std     39022.286345       6.280857       9.27810      12.574690   \n",
       "min         1.000000      10.000000     127.00000      25.000000   \n",
       "25%     34643.000000      22.000000     170.00000      63.000000   \n",
       "50%     68205.000000      25.000000     175.33897      70.702393   \n",
       "75%    102097.250000      28.000000     180.00000      75.000000   \n",
       "max    135571.000000      97.000000     226.00000     214.000000   \n",
       "\n",
       "                Year  \n",
       "count  271116.000000  \n",
       "mean     1978.378480  \n",
       "std        29.877632  \n",
       "min      1896.000000  \n",
       "25%      1960.000000  \n",
       "50%      1988.000000  \n",
       "75%      2002.000000  \n",
       "max      2016.000000  "
      ]
     },
     "execution_count": 31,
     "metadata": {},
     "output_type": "execute_result"
    }
   ],
   "source": [
    "df.describe()\n"
   ]
  },
  {
   "cell_type": "code",
   "execution_count": 32,
   "id": "c02a2cc7",
   "metadata": {},
   "outputs": [
    {
     "name": "stdout",
     "output_type": "stream",
     "text": [
      "1385\n"
     ]
    }
   ],
   "source": [
    "print(df.duplicated().sum())"
   ]
  },
  {
   "cell_type": "code",
   "execution_count": 33,
   "id": "89b3a6af",
   "metadata": {},
   "outputs": [],
   "source": [
    "df.drop_duplicates(inplace= True)"
   ]
  },
  {
   "cell_type": "code",
   "execution_count": 34,
   "id": "1d271c01",
   "metadata": {},
   "outputs": [
    {
     "data": {
      "text/plain": [
       "NOC\n",
       "USA    5637\n",
       "URS    2503\n",
       "GER    2165\n",
       "GBR    2067\n",
       "FRA    1767\n",
       "ITA    1637\n",
       "SWE    1536\n",
       "CAN    1352\n",
       "AUS    1320\n",
       "RUS    1165\n",
       "Name: Medal, dtype: int64"
      ]
     },
     "execution_count": 34,
     "metadata": {},
     "output_type": "execute_result"
    }
   ],
   "source": [
    "medal_counts = df.groupby('NOC')['Medal'].count().sort_values(ascending=False).head(10)\n",
    "medal_counts"
   ]
  },
  {
   "cell_type": "code",
   "execution_count": 35,
   "id": "7af55786",
   "metadata": {},
   "outputs": [
    {
     "data": {
      "text/plain": [
       "Name\n",
       "Michael Fred Phelps, II               28\n",
       "Larysa Semenivna Latynina (Diriy-)    18\n",
       "Nikolay Yefimovich Andrianov          15\n",
       "Takashi Ono                           13\n",
       "Ole Einar Bjrndalen                   13\n",
       "Name: Medal, dtype: int64"
      ]
     },
     "execution_count": 35,
     "metadata": {},
     "output_type": "execute_result"
    }
   ],
   "source": [
    "top_athletes = df.groupby('Name')['Medal'].count().sort_values(ascending=False).head(5)\n",
    "top_athletes"
   ]
  },
  {
   "cell_type": "code",
   "execution_count": 36,
   "id": "8870f557",
   "metadata": {},
   "outputs": [
    {
     "name": "stdout",
     "output_type": "stream",
     "text": [
      "\n",
      "1. TOP 15 COUNTRIES BY TOTAL MEDALS:\n",
      "---------------\n",
      "NOC\n",
      "USA    5637\n",
      "URS    2503\n",
      "GER    2165\n",
      "GBR    2067\n",
      "FRA    1767\n",
      "ITA    1637\n",
      "SWE    1536\n",
      "CAN    1352\n",
      "AUS    1320\n",
      "RUS    1165\n",
      "HUN    1135\n",
      "NED    1040\n",
      "NOR    1033\n",
      "GDR    1005\n",
      "CHN     989\n",
      "Name: Medal, dtype: int64\n"
     ]
    }
   ],
   "source": [
    "# Analyze medal distributions by -country-, sport, and time period\n",
    "\n",
    "print(\"\\n1. TOP 15 COUNTRIES BY TOTAL MEDALS:\")\n",
    "print(\"-\" * 15)\n",
    "\n",
    "medal_winners = df[df['Medal'].notna()]\n",
    "\n",
    "country_medals = medal_winners.groupby('NOC')['Medal'].count().sort_values(ascending=False).head(15)\n",
    "print(country_medals)"
   ]
  },
  {
   "cell_type": "code",
   "execution_count": 37,
   "id": "34d6f920",
   "metadata": {},
   "outputs": [
    {
     "name": "stdout",
     "output_type": "stream",
     "text": [
      "\n",
      "1. TOP 15 COUNTRIES BY TOTAL MEDALS:\n",
      "---------------\n",
      "NOC\n",
      "USA    5637\n",
      "URS    2503\n",
      "GER    2165\n",
      "GBR    2067\n",
      "FRA    1767\n",
      "ITA    1637\n",
      "SWE    1536\n",
      "CAN    1352\n",
      "AUS    1320\n",
      "RUS    1165\n",
      "HUN    1135\n",
      "NED    1040\n",
      "NOR    1033\n",
      "GDR    1005\n",
      "CHN     989\n",
      "Name: Medal, dtype: int64\n",
      "\n",
      "2. TOP 15 SPORTS BY TOTAL MEDALS:\n",
      "----------------------------------------\n",
      "Sport\n",
      "Athletics     3969\n",
      "Swimming      3048\n",
      "Rowing        2945\n",
      "Gymnastics    2256\n",
      "Fencing       1743\n",
      "Football      1571\n",
      "Ice Hockey    1530\n",
      "Hockey        1528\n",
      "Wrestling     1296\n",
      "Cycling       1263\n",
      "Shooting      1228\n",
      "Sailing       1221\n",
      "Canoeing      1165\n",
      "Basketball    1080\n",
      "Handball      1060\n",
      "Name: Medal, dtype: int64\n",
      "\n",
      "3. MEDAL DISTRIBUTION BY DECADE:\n",
      "----------------------------------------\n",
      "\n",
      "4. MEDAL DISTRIBUTION BY TYPE:\n",
      "----------------------------------------\n",
      "Medal\n",
      "Gold      13369\n",
      "Bronze    13295\n",
      "Silver    13108\n",
      "Name: count, dtype: int64\n",
      "5. TOP 5 COUNTRIES MEDAL PERFORMANCE BY DECADE:\n",
      "--------------------------------------------------\n"
     ]
    },
    {
     "ename": "KeyError",
     "evalue": "'Decade'",
     "output_type": "error",
     "traceback": [
      "\u001b[31m---------------------------------------------------------------------------\u001b[39m",
      "\u001b[31mKeyError\u001b[39m                                  Traceback (most recent call last)",
      "\u001b[36mCell\u001b[39m\u001b[36m \u001b[39m\u001b[32mIn[37]\u001b[39m\u001b[32m, line 40\u001b[39m\n\u001b[32m     37\u001b[39m \u001b[38;5;28mprint\u001b[39m(\u001b[33m\"\u001b[39m\u001b[33m-\u001b[39m\u001b[33m\"\u001b[39m * \u001b[32m50\u001b[39m)\n\u001b[32m     39\u001b[39m top_5_countries = country_medals.head(\u001b[32m5\u001b[39m).index\n\u001b[32m---> \u001b[39m\u001b[32m40\u001b[39m country_decade_medals = \u001b[43mmedal_winners\u001b[49m\u001b[43m[\u001b[49m\u001b[43mmedal_winners\u001b[49m\u001b[43m[\u001b[49m\u001b[33;43m'\u001b[39;49m\u001b[33;43mNOC\u001b[39;49m\u001b[33;43m'\u001b[39;49m\u001b[43m]\u001b[49m\u001b[43m.\u001b[49m\u001b[43misin\u001b[49m\u001b[43m(\u001b[49m\u001b[43mtop_5_countries\u001b[49m\u001b[43m)\u001b[49m\u001b[43m]\u001b[49m\u001b[43m.\u001b[49m\u001b[43mgroupby\u001b[49m\u001b[43m(\u001b[49m\u001b[43m[\u001b[49m\u001b[33;43m'\u001b[39;49m\u001b[33;43mNOC\u001b[39;49m\u001b[33;43m'\u001b[39;49m\u001b[43m,\u001b[49m\u001b[43m \u001b[49m\u001b[33;43m'\u001b[39;49m\u001b[33;43mDecade\u001b[39;49m\u001b[33;43m'\u001b[39;49m\u001b[43m]\u001b[49m\u001b[43m)\u001b[49m[\u001b[33m'\u001b[39m\u001b[33mMedal\u001b[39m\u001b[33m'\u001b[39m].count().unstack(fill_value=\u001b[32m0\u001b[39m)\n\u001b[32m     41\u001b[39m \u001b[38;5;28mprint\u001b[39m(country_decade_medals)\n\u001b[32m     43\u001b[39m \u001b[38;5;66;03m# 6. SPORT PERFORMANCE OVER TIME (Top 5 sports)\u001b[39;00m\n",
      "\u001b[36mFile \u001b[39m\u001b[32m~\\AppData\\Roaming\\Python\\Python313\\site-packages\\pandas\\core\\frame.py:9183\u001b[39m, in \u001b[36mDataFrame.groupby\u001b[39m\u001b[34m(self, by, axis, level, as_index, sort, group_keys, observed, dropna)\u001b[39m\n\u001b[32m   9180\u001b[39m \u001b[38;5;28;01mif\u001b[39;00m level \u001b[38;5;129;01mis\u001b[39;00m \u001b[38;5;28;01mNone\u001b[39;00m \u001b[38;5;129;01mand\u001b[39;00m by \u001b[38;5;129;01mis\u001b[39;00m \u001b[38;5;28;01mNone\u001b[39;00m:\n\u001b[32m   9181\u001b[39m     \u001b[38;5;28;01mraise\u001b[39;00m \u001b[38;5;167;01mTypeError\u001b[39;00m(\u001b[33m\"\u001b[39m\u001b[33mYou have to supply one of \u001b[39m\u001b[33m'\u001b[39m\u001b[33mby\u001b[39m\u001b[33m'\u001b[39m\u001b[33m and \u001b[39m\u001b[33m'\u001b[39m\u001b[33mlevel\u001b[39m\u001b[33m'\u001b[39m\u001b[33m\"\u001b[39m)\n\u001b[32m-> \u001b[39m\u001b[32m9183\u001b[39m \u001b[38;5;28;01mreturn\u001b[39;00m \u001b[43mDataFrameGroupBy\u001b[49m\u001b[43m(\u001b[49m\n\u001b[32m   9184\u001b[39m \u001b[43m    \u001b[49m\u001b[43mobj\u001b[49m\u001b[43m=\u001b[49m\u001b[38;5;28;43mself\u001b[39;49m\u001b[43m,\u001b[49m\n\u001b[32m   9185\u001b[39m \u001b[43m    \u001b[49m\u001b[43mkeys\u001b[49m\u001b[43m=\u001b[49m\u001b[43mby\u001b[49m\u001b[43m,\u001b[49m\n\u001b[32m   9186\u001b[39m \u001b[43m    \u001b[49m\u001b[43maxis\u001b[49m\u001b[43m=\u001b[49m\u001b[43maxis\u001b[49m\u001b[43m,\u001b[49m\n\u001b[32m   9187\u001b[39m \u001b[43m    \u001b[49m\u001b[43mlevel\u001b[49m\u001b[43m=\u001b[49m\u001b[43mlevel\u001b[49m\u001b[43m,\u001b[49m\n\u001b[32m   9188\u001b[39m \u001b[43m    \u001b[49m\u001b[43mas_index\u001b[49m\u001b[43m=\u001b[49m\u001b[43mas_index\u001b[49m\u001b[43m,\u001b[49m\n\u001b[32m   9189\u001b[39m \u001b[43m    \u001b[49m\u001b[43msort\u001b[49m\u001b[43m=\u001b[49m\u001b[43msort\u001b[49m\u001b[43m,\u001b[49m\n\u001b[32m   9190\u001b[39m \u001b[43m    \u001b[49m\u001b[43mgroup_keys\u001b[49m\u001b[43m=\u001b[49m\u001b[43mgroup_keys\u001b[49m\u001b[43m,\u001b[49m\n\u001b[32m   9191\u001b[39m \u001b[43m    \u001b[49m\u001b[43mobserved\u001b[49m\u001b[43m=\u001b[49m\u001b[43mobserved\u001b[49m\u001b[43m,\u001b[49m\n\u001b[32m   9192\u001b[39m \u001b[43m    \u001b[49m\u001b[43mdropna\u001b[49m\u001b[43m=\u001b[49m\u001b[43mdropna\u001b[49m\u001b[43m,\u001b[49m\n\u001b[32m   9193\u001b[39m \u001b[43m\u001b[49m\u001b[43m)\u001b[49m\n",
      "\u001b[36mFile \u001b[39m\u001b[32m~\\AppData\\Roaming\\Python\\Python313\\site-packages\\pandas\\core\\groupby\\groupby.py:1329\u001b[39m, in \u001b[36mGroupBy.__init__\u001b[39m\u001b[34m(self, obj, keys, axis, level, grouper, exclusions, selection, as_index, sort, group_keys, observed, dropna)\u001b[39m\n\u001b[32m   1326\u001b[39m \u001b[38;5;28mself\u001b[39m.dropna = dropna\n\u001b[32m   1328\u001b[39m \u001b[38;5;28;01mif\u001b[39;00m grouper \u001b[38;5;129;01mis\u001b[39;00m \u001b[38;5;28;01mNone\u001b[39;00m:\n\u001b[32m-> \u001b[39m\u001b[32m1329\u001b[39m     grouper, exclusions, obj = \u001b[43mget_grouper\u001b[49m\u001b[43m(\u001b[49m\n\u001b[32m   1330\u001b[39m \u001b[43m        \u001b[49m\u001b[43mobj\u001b[49m\u001b[43m,\u001b[49m\n\u001b[32m   1331\u001b[39m \u001b[43m        \u001b[49m\u001b[43mkeys\u001b[49m\u001b[43m,\u001b[49m\n\u001b[32m   1332\u001b[39m \u001b[43m        \u001b[49m\u001b[43maxis\u001b[49m\u001b[43m=\u001b[49m\u001b[43maxis\u001b[49m\u001b[43m,\u001b[49m\n\u001b[32m   1333\u001b[39m \u001b[43m        \u001b[49m\u001b[43mlevel\u001b[49m\u001b[43m=\u001b[49m\u001b[43mlevel\u001b[49m\u001b[43m,\u001b[49m\n\u001b[32m   1334\u001b[39m \u001b[43m        \u001b[49m\u001b[43msort\u001b[49m\u001b[43m=\u001b[49m\u001b[43msort\u001b[49m\u001b[43m,\u001b[49m\n\u001b[32m   1335\u001b[39m \u001b[43m        \u001b[49m\u001b[43mobserved\u001b[49m\u001b[43m=\u001b[49m\u001b[38;5;28;43;01mFalse\u001b[39;49;00m\u001b[43m \u001b[49m\u001b[38;5;28;43;01mif\u001b[39;49;00m\u001b[43m \u001b[49m\u001b[43mobserved\u001b[49m\u001b[43m \u001b[49m\u001b[38;5;129;43;01mis\u001b[39;49;00m\u001b[43m \u001b[49m\u001b[43mlib\u001b[49m\u001b[43m.\u001b[49m\u001b[43mno_default\u001b[49m\u001b[43m \u001b[49m\u001b[38;5;28;43;01melse\u001b[39;49;00m\u001b[43m \u001b[49m\u001b[43mobserved\u001b[49m\u001b[43m,\u001b[49m\n\u001b[32m   1336\u001b[39m \u001b[43m        \u001b[49m\u001b[43mdropna\u001b[49m\u001b[43m=\u001b[49m\u001b[38;5;28;43mself\u001b[39;49m\u001b[43m.\u001b[49m\u001b[43mdropna\u001b[49m\u001b[43m,\u001b[49m\n\u001b[32m   1337\u001b[39m \u001b[43m    \u001b[49m\u001b[43m)\u001b[49m\n\u001b[32m   1339\u001b[39m \u001b[38;5;28;01mif\u001b[39;00m observed \u001b[38;5;129;01mis\u001b[39;00m lib.no_default:\n\u001b[32m   1340\u001b[39m     \u001b[38;5;28;01mif\u001b[39;00m \u001b[38;5;28many\u001b[39m(ping._passed_categorical \u001b[38;5;28;01mfor\u001b[39;00m ping \u001b[38;5;129;01min\u001b[39;00m grouper.groupings):\n",
      "\u001b[36mFile \u001b[39m\u001b[32m~\\AppData\\Roaming\\Python\\Python313\\site-packages\\pandas\\core\\groupby\\grouper.py:1043\u001b[39m, in \u001b[36mget_grouper\u001b[39m\u001b[34m(obj, key, axis, level, sort, observed, validate, dropna)\u001b[39m\n\u001b[32m   1041\u001b[39m         in_axis, level, gpr = \u001b[38;5;28;01mFalse\u001b[39;00m, gpr, \u001b[38;5;28;01mNone\u001b[39;00m\n\u001b[32m   1042\u001b[39m     \u001b[38;5;28;01melse\u001b[39;00m:\n\u001b[32m-> \u001b[39m\u001b[32m1043\u001b[39m         \u001b[38;5;28;01mraise\u001b[39;00m \u001b[38;5;167;01mKeyError\u001b[39;00m(gpr)\n\u001b[32m   1044\u001b[39m \u001b[38;5;28;01melif\u001b[39;00m \u001b[38;5;28misinstance\u001b[39m(gpr, Grouper) \u001b[38;5;129;01mand\u001b[39;00m gpr.key \u001b[38;5;129;01mis\u001b[39;00m \u001b[38;5;129;01mnot\u001b[39;00m \u001b[38;5;28;01mNone\u001b[39;00m:\n\u001b[32m   1045\u001b[39m     \u001b[38;5;66;03m# Add key to exclusions\u001b[39;00m\n\u001b[32m   1046\u001b[39m     exclusions.add(gpr.key)\n",
      "\u001b[31mKeyError\u001b[39m: 'Decade'"
     ]
    }
   ],
   "source": [
    "# Analyze medal distributions by -country-, sport, and time period\n",
    "\n",
    "print(\"\\n1. TOP 15 COUNTRIES BY TOTAL MEDALS:\")\n",
    "print(\"-\" * 15)\n",
    "\n",
    "medal_winners = df[df['Medal'].notna()]\n",
    "\n",
    "country_medals = medal_winners.groupby('NOC')['Medal'].count().sort_values(ascending=False).head(15)\n",
    "print(country_medals)\n",
    "\n",
    "# 2. MEDAL DISTRIBUTION BY SPORT\n",
    "print(\"\\n2. TOP 15 SPORTS BY TOTAL MEDALS:\")\n",
    "print(\"-\" * 40)\n",
    "\n",
    "# Count medals by sport\n",
    "sport_medals = medal_winners.groupby('Sport')['Medal'].count().sort_values(ascending=False).head(15)\n",
    "print(sport_medals)\n",
    "\n",
    "# 3. MEDAL DISTRIBUTION BY TIME PERIOD (Decades)\n",
    "print(\"\\n3. MEDAL DISTRIBUTION BY DECADE:\")\n",
    "print(\"-\" * 40)\n",
    "\n",
    "# Create decade column\n",
    "#df['Decade'] = (df['Year'] // 10) * 10\n",
    "#decade_medals = medal_winners.groupby('Decade')['Medal'].count().sort_index() \n",
    "#print(decade_medals)\n",
    "\n",
    "# 4. MEDAL DISTRIBUTION BY MEDAL TYPE\n",
    "print(\"\\n4. MEDAL DISTRIBUTION BY TYPE:\")\n",
    "print(\"-\" * 40)\n",
    "\n",
    "medal_type_dist = medal_winners['Medal'].value_counts()\n",
    "print(medal_type_dist)\n",
    "\n",
    "# 5. COUNTRY PERFORMANCE OVER TIME (Top 5 countries)\n",
    "print(\"5. TOP 5 COUNTRIES MEDAL PERFORMANCE BY DECADE:\")\n",
    "print(\"-\" * 50)\n",
    "\n",
    "top_5_countries = country_medals.head(5).index\n",
    "country_decade_medals = medal_winners[medal_winners['NOC'].isin(top_5_countries)].groupby(['NOC', 'Decade'])['Medal'].count().unstack(fill_value=0)\n",
    "print(country_decade_medals)\n",
    "\n",
    "# 6. SPORT PERFORMANCE OVER TIME (Top 5 sports)\n",
    "print(\"6. TOP 5 SPORTS MEDAL PERFORMANCE BY DECADE:\")\n",
    "print(\"-\" * 50)\n",
    "\n",
    "top_5_sports = sport_medals.head(5).index\n",
    "sport_decade_medals = medal_winners[medal_winners['Sport'].isin(top_5_sports)].groupby(['Sport', 'Decade'])['Medal'].count().unstack(fill_value=0)\n",
    "print(sport_decade_medals)\n",
    "\n",
    "# 7. SUMMER VS WINTER OLYMPICS MEDAL DISTRIBUTION\n",
    "print(\"7. SUMMER VS WINTER OLYMPICS MEDAL DISTRIBUTION:\")\n",
    "print(\"-\" * 50)\n",
    "\n",
    "season_medals = medal_winners.groupby('Season')['Medal'].count()\n",
    "print(season_medals)\n",
    "\n",
    "# 8. MEDAL DISTRIBUTION BY GENDER\n",
    "print(\"8. MEDAL DISTRIBUTION BY GENDER:\")\n",
    "print(\"-\" * 40)\n",
    "\n",
    "gender_medals = medal_winners.groupby('Sex')['Medal'].count()\n",
    "print(gender_medals)\n"
   ]
  }
 ],
 "metadata": {
  "kernelspec": {
   "display_name": "Python 3",
   "language": "python",
   "name": "python3"
  },
  "language_info": {
   "codemirror_mode": {
    "name": "ipython",
    "version": 3
   },
   "file_extension": ".py",
   "mimetype": "text/x-python",
   "name": "python",
   "nbconvert_exporter": "python",
   "pygments_lexer": "ipython3",
   "version": "3.13.1"
  }
 },
 "nbformat": 4,
 "nbformat_minor": 5
}
